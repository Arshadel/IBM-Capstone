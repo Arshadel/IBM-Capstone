# -*- coding: utf-8 -*-
"""
Spyder Editor

This is a temporary script file.
"""




print("TEST")
import pandas
import numpy

print("Hello Capstone Project Course!")